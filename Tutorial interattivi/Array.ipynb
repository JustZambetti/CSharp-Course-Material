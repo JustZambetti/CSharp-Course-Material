{
 "cells": [
  {
   "cell_type": "markdown",
   "metadata": {},
   "source": [
    "# Array\n",
    "Gli array sono una struttura dati che permette di immagazzinare molteplici oggetti purché siano dello stesso tipo."
   ]
  },
  {
   "cell_type": "markdown",
   "metadata": {},
   "source": [
    "Assegnando il tipo T[] a un oggetto, esso sarà un array di elementi dal tipo T.\n",
    "\n",
    "Per creare un array in C# è necessario scrivere \"new T[n]\" in cui n è il numero di elementi e T è il tipo degli elementi.\n",
    "\n",
    "Ogni elemento dell'array assume il valore di default se non gliene è stato fornito un altro.\n",
    "\n",
    "**RICORDA:** Il punto debole degli array è che non è possibile cambiare il numero di elementi (quindi né cancellarne né aggiungerne)"
   ]
  },
  {
   "cell_type": "code",
   "execution_count": null,
   "metadata": {
    "dotnet_interactive": {
     "language": "csharp"
    },
    "vscode": {
     "languageId": "dotnet-interactive.csharp"
    }
   },
   "outputs": [],
   "source": [
    "int[] array = new int[10]; //\"array\" è un array di 10 elementi di tipo int\n",
    "Console.WriteLine(array); //L'output non è troppo entusiasmante"
   ]
  },
  {
   "cell_type": "markdown",
   "metadata": {},
   "source": [
    "Si possono creare anche indicando gli elementi senza specificarne il numero. "
   ]
  },
  {
   "cell_type": "code",
   "execution_count": null,
   "metadata": {
    "dotnet_interactive": {
     "language": "csharp"
    },
    "vscode": {
     "languageId": "dotnet-interactive.csharp"
    }
   },
   "outputs": [],
   "source": [
    "int[] array = new int[]\n",
    "{\n",
    "    30,\n",
    "    2,\n",
    "    100\n",
    "};"
   ]
  },
  {
   "cell_type": "markdown",
   "metadata": {},
   "source": [
    "Oppure specificando anche il numero. In questo modo se sbagliate ve ne accorgete."
   ]
  },
  {
   "cell_type": "code",
   "execution_count": null,
   "metadata": {
    "dotnet_interactive": {
     "language": "csharp"
    },
    "vscode": {
     "languageId": "dotnet-interactive.csharp"
    }
   },
   "outputs": [],
   "source": [
    "int[] array = new int[4]\n",
    "{\n",
    "    30,\n",
    "    2,\n",
    "    100\n",
    "};"
   ]
  },
  {
   "cell_type": "markdown",
   "metadata": {
    "dotnet_interactive": {
     "language": "csharp"
    }
   },
   "source": [
    "Si può utilizzare un indice n per accedere all'ennesimo elemento dell'array.\n",
    "\n",
    "È importante ricordare però che gli indici partono dallo 0 e arrivano a n-1."
   ]
  },
  {
   "cell_type": "code",
   "execution_count": null,
   "metadata": {
    "dotnet_interactive": {
     "language": "csharp"
    },
    "vscode": {
     "languageId": "dotnet-interactive.csharp"
    }
   },
   "outputs": [],
   "source": [
    "int[] array = new int[10];\n",
    "array[0] = 2;\n",
    "Console.WriteLine($\"Il primo elemento dell'array vale {array[0]}\");"
   ]
  },
  {
   "cell_type": "markdown",
   "metadata": {},
   "source": [
    "Tentare di accedere ad un indice inesistente restituirà un errore!"
   ]
  },
  {
   "cell_type": "code",
   "execution_count": null,
   "metadata": {
    "dotnet_interactive": {
     "language": "csharp"
    },
    "vscode": {
     "languageId": "dotnet-interactive.csharp"
    }
   },
   "outputs": [],
   "source": [
    "int[] array = new int[10];\n",
    "array[-1] = 2;"
   ]
  },
  {
   "cell_type": "code",
   "execution_count": null,
   "metadata": {
    "dotnet_interactive": {
     "language": "csharp"
    },
    "vscode": {
     "languageId": "dotnet-interactive.csharp"
    }
   },
   "outputs": [],
   "source": [
    "int[] array = new int[10];\n",
    "array[10] = 2;"
   ]
  },
  {
   "cell_type": "markdown",
   "metadata": {},
   "source": [
    "int[] è un tipo di array di interi.\n",
    "\n",
    "Abbiamo detto che ogni tipo può essere seguito da \"[]\" e diventare un array di elementi di quel tipo.\n",
    "\n",
    "Seguendo questa logica int[][] è un array di array di interi."
   ]
  },
  {
   "cell_type": "code",
   "execution_count": null,
   "metadata": {
    "dotnet_interactive": {
     "language": "csharp"
    },
    "vscode": {
     "languageId": "dotnet-interactive.csharp"
    }
   },
   "outputs": [
    {
     "name": "stdout",
     "output_type": "stream",
     "text": [
      "A: 3\r\n",
      "B: 2\r\n",
      "C: 2\r\n",
      "D: 20\r\n"
     ]
    }
   ],
   "source": [
    "int[][] array = new int[3][];   //I suoi elementi sono inizializzati col valore di default, \n",
    "                                //che per gli array è null\n",
    "int[][] array2 = new int[][]\n",
    "{\n",
    "    //Ogni elemento è un array a sua volta\n",
    "    new int[2], //Questo array ha due elementi\n",
    "    new int[] {1,2,10,20} //Questo array ha quattro elementi\n",
    "};\n",
    "\n",
    "Console.WriteLine(\"A: \" + array.Length);\n",
    "Console.WriteLine(\"B: \" + array2.Length);\n",
    "Console.WriteLine(\"C: \" + array2[0].Length); //array2[0] è un array, quindi ha la proprietà length\n",
    "Console.WriteLine(\"D: \" + array2[1][3]); //quarto elemento del secondo array"
   ]
  },
  {
   "cell_type": "markdown",
   "metadata": {},
   "source": [
    "Gli array hanno una proprietà di sola lettura **Length** che ne indica il numero di elementi. "
   ]
  },
  {
   "cell_type": "code",
   "execution_count": null,
   "metadata": {
    "dotnet_interactive": {
     "language": "csharp"
    },
    "vscode": {
     "languageId": "dotnet-interactive.csharp"
    }
   },
   "outputs": [
    {
     "name": "stdout",
     "output_type": "stream",
     "text": [
      "10\r\n"
     ]
    }
   ],
   "source": [
    "int[] array = new int[10];\n",
    "Console.WriteLine(array.Length)"
   ]
  },
  {
   "cell_type": "code",
   "execution_count": null,
   "metadata": {
    "dotnet_interactive": {
     "language": "csharp"
    },
    "vscode": {
     "languageId": "dotnet-interactive.csharp"
    }
   },
   "outputs": [
    {
     "name": "stdout",
     "output_type": "stream",
     "text": [
      "Prima riga: |xOO|\r\n"
     ]
    }
   ],
   "source": [
    "//Se hai una tabella composta dua un array di array di caratteri:\n",
    "char[][] board = new char[][]{\n",
    "    new char[]{'x','O','O'},\n",
    "    new char[]{'x',' ',' '},\n",
    "    new char[]{'x',' ',' '},\n",
    "};\n",
    "   \n",
    "//Questa tabella potrebbe rappresentare una partita di Tris.\n",
    "//Così potresti mostrare una riga della tabella:\n",
    "Console.Write($\"Prima riga: |\");\n",
    "\n",
    "for(int i = 0; i < board[0].Length; i++) //Questo ciclo fa eseguire il blocco di codice 3 volte con i che va da 0 a 2\n",
    "    Console.Write(board[0][i]);\n",
    "\n",
    "Console.WriteLine(\"|\");\n",
    "//board[0];\n"
   ]
  },
  {
   "cell_type": "code",
   "execution_count": null,
   "metadata": {
    "dotnet_interactive": {
     "language": "csharp"
    },
    "vscode": {
     "languageId": "dotnet-interactive.csharp"
    }
   },
   "outputs": [
    {
     "name": "stdout",
     "output_type": "stream",
     "text": [
      "XOX\r\n",
      "OXX\r\n",
      "OXO\r\n"
     ]
    }
   ],
   "source": [
    "char[][] board = new char[][]{\n",
    "    new char[]{'X','O','O'},\n",
    "    new char[]{'O','X','X'},\n",
    "    new char[]{'X','X','O'},\n",
    "};//Che stallo!\n",
    "   \n",
    "\n",
    "//Usando un for dentro ad un altro puoi stampare tutta la tabella\n",
    "for(int y = 0; y < board.Length; y++)\n",
    "{\n",
    "    for(int x = 0; x < board[0].Length; x++) //Questo ciclo fa eseguire il blocco di codice 3 volte con i che va da 0 a 2\n",
    "        Console.Write(board[x][y] /*+ \" \"*/);//Rimuovi il commento a sinistra per vedere la magia accadere (aggiunge uno spazio dipo ogni simbolo)\n",
    "    Console.WriteLine(); //Manda a capo\n",
    "}\n",
    "\n",
    "\n"
   ]
  },
  {
   "cell_type": "markdown",
   "metadata": {},
   "source": [
    "In realtà esiste un modo migliore per creare quella tabella di caratteri. Utilizzare un array bidimensionale.\n",
    "\n",
    "A differenza di un array di array, un array bidimensionale (si può andare avanti a oltranza con le dimensioni) ha sempre n per m elementi e semplifica delle operazioni complesse che probabilmente ci capiteranno. "
   ]
  },
  {
   "cell_type": "code",
   "execution_count": null,
   "metadata": {
    "dotnet_interactive": {
     "language": "csharp"
    },
    "vscode": {
     "languageId": "dotnet-interactive.csharp"
    }
   },
   "outputs": [
    {
     "name": "stdout",
     "output_type": "stream",
     "text": [
      "Dimensione 0: 3\r\n",
      "Dimensione 1: 3\r\n",
      "Partita di tris:\r\n",
      "O X X \r\n",
      "X O O \r\n",
      "O X X \r\n"
     ]
    }
   ],
   "source": [
    "//Per indicare il numero di dimensioni è sufficiente mettere delle virgole \n",
    "int[,] arr = new int[3,3];\n",
    "//Tutti i valori sono di default a 0, mentre un array di array avrebbe avuto tutti i valori a null (che è il valore di default degli array)\n",
    "\n",
    "char[,] board = new char[,]\n",
    "{\n",
    "    {'O','X','O'},\n",
    "    {'X','O','X'},\n",
    "    {'X','O','X'}\n",
    "};\n",
    "\n",
    "//GetLength() è un metodo degli array che restituisce la loro dimensione (quanto sono alti/lunghi/larghi)\n",
    "Console.WriteLine(\"Dimensione 0: \" + board1.GetLength(0));\n",
    "Console.WriteLine(\"Dimensione 1: \" + board1.GetLength(1));\n",
    "\n",
    "//Si può avere qualsiasi combinazione di array di array e array multidimensionali\n",
    "int[,,,,][][,,][,][][][] monstruosity;\n",
    "//Per esempio questo è un array pentadimensionale di array di array tridimensionali di array bidimensionali di array di array di array di interi.\n",
    "//Di solito però questo tipo di array è chiamato più semplicemente col nome di \"mostruosità\" o \"obrobrio\" a vostra discrezione\n",
    "\n",
    "Console.WriteLine(\"Partita di tris:\");\n",
    "for(int y = 0; y < board.GetLength(0); y++) //Questo ciclo fa eseguire il blocco di codice sottostante 3 volte con y che va da 0 a 2\n",
    "{\n",
    "    for(int x = 0; x < board.GetLength(1); x++) //Questo ciclo fa eseguire il blocco di codice sottostante 3 volte con x che va da 0 a 2\n",
    "        Console.Write(board[x,y] + \" \");\n",
    "    Console.WriteLine(); //Manda a capo\n",
    "}"
   ]
  }
 ],
 "metadata": {
  "kernelspec": {
   "display_name": ".NET (C#)",
   "language": "C#",
   "name": ".net-csharp"
  },
  "language_info": {
   "file_extension": ".cs",
   "mimetype": "text/x-csharp",
   "name": "C#",
   "pygments_lexer": "csharp",
   "version": "9.0"
  },
  "orig_nbformat": 4
 },
 "nbformat": 4,
 "nbformat_minor": 2
}
