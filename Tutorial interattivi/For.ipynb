{
 "cells": [
  {
   "cell_type": "markdown",
   "metadata": {},
   "source": [
    "# L'istruzione di iterazione for"
   ]
  },
  {
   "cell_type": "markdown",
   "metadata": {},
   "source": [
    "L'istruzione for esegue un ciclo di istruzione o un blocco di istruzioni n volte."
   ]
  },
  {
   "cell_type": "markdown",
   "metadata": {},
   "source": [
    "È divisa in tre sezioni: Inizializzatrice, condizione, incrementatrice.\n",
    "\n",
    "La prima sezione viene eseguita una volta e serve per inizializzare una o più variabili da usare come contatori. (es: int i = 0;)\n",
    "\n",
    "La seconda sezione contiene la condizione: ovvero un oggetto di tipo *booleano*. Se la condizione è vera esegue il blocco di codice. La condizione viene ricontrollata ogni volta che termina il blocco di codice. \n",
    "\n",
    "La terza sezione viene eseguita a fine ciclo e si usa per incrementare le variabili contatori. (per convenzione chiamate i,j,k,x,y)"
   ]
  },
  {
   "cell_type": "markdown",
   "metadata": {},
   "source": [
    "for (Inizializzatore; Condizione; Iterazione)\n",
    "{\n",
    "    Istruzioni\n",
    "}"
   ]
  },
  {
   "cell_type": "code",
   "execution_count": null,
   "metadata": {
    "dotnet_interactive": {
     "language": "csharp"
    },
    "vscode": {
     "languageId": "dotnet-interactive.csharp"
    }
   },
   "outputs": [
    {
     "name": "stdout",
     "output_type": "stream",
     "text": [
      "La i vale 0\r\n",
      "La i vale 1\r\n",
      "La i vale 2\r\n",
      "Fine\r\n"
     ]
    }
   ],
   "source": [
    "//Prova a cambiare il valore iniziale di i\n",
    "//Prova a cambiare la condizione (es: i > 0)\n",
    "//Prova a cambiare l'incrementatore (es: i = i - 2)\n",
    "for (int i = 0; i < 3; i++)\n",
    "{\n",
    "    Console.WriteLine($\"La i vale {i}\");\n",
    "}\n",
    "Console.WriteLine(\"Fine\");"
   ]
  },
  {
   "cell_type": "markdown",
   "metadata": {},
   "source": [
    "Se il blocco di codice è composto da una sola istruzione non servono le parentesi graffe"
   ]
  },
  {
   "cell_type": "code",
   "execution_count": null,
   "metadata": {
    "dotnet_interactive": {
     "language": "csharp"
    },
    "vscode": {
     "languageId": "dotnet-interactive.csharp"
    }
   },
   "outputs": [
    {
     "name": "stdout",
     "output_type": "stream",
     "text": [
      "Hello World\r\n",
      "Hello World\r\n",
      "Hello World\r\n",
      "Hello World\r\n"
     ]
    }
   ],
   "source": [
    "for (int i = 0; i < 4; i++) \n",
    "    Console.WriteLine(\"Hello World\");\n"
   ]
  },
  {
   "cell_type": "markdown",
   "metadata": {},
   "source": [
    "Se la condizione è vuota, risulterà sempre verificata. Fate attenzione ad eseguire codice del genere perché potrebbe creare un ciclo infinito  "
   ]
  },
  {
   "cell_type": "code",
   "execution_count": null,
   "metadata": {
    "dotnet_interactive": {
     "language": "csharp"
    },
    "vscode": {
     "languageId": "dotnet-interactive.csharp"
    }
   },
   "outputs": [],
   "source": [
    "for ( ; ; )\n",
    "{\n",
    "    Console.WriteLine(\"Hello\");\n",
    "}"
   ]
  }
 ],
 "metadata": {
  "kernelspec": {
   "display_name": ".NET (C#)",
   "language": "C#",
   "name": ".net-csharp"
  },
  "language_info": {
   "file_extension": ".cs",
   "mimetype": "text/x-csharp",
   "name": "C#",
   "pygments_lexer": "csharp",
   "version": "9.0"
  },
  "orig_nbformat": 4
 },
 "nbformat": 4,
 "nbformat_minor": 2
}
