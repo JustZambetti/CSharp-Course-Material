{
 "cells": [
  {
   "cell_type": "markdown",
   "metadata": {},
   "source": [
    "# Costrutto if-else\n",
    "L'istruzione if esegue il relativo blocco di codice quando la sua condizione è vera.\n",
    "\n",
    "La condizione è un'oggetto booleano."
   ]
  },
  {
   "cell_type": "code",
   "execution_count": null,
   "metadata": {
    "dotnet_interactive": {
     "language": "csharp"
    },
    "vscode": {
     "languageId": "dotnet-interactive.csharp"
    }
   },
   "outputs": [],
   "source": [
    "\n",
    "Console.WriteLine(\"A\");\n",
    "bool condizione = true; //modifica la condizione per vedere cosa succede!\n",
    "if(condizione)\n",
    "{\n",
    "    Console.WriteLine(\"B\");\n",
    "}\n",
    "Console.WriteLine(\"C\");\n"
   ]
  },
  {
   "cell_type": "markdown",
   "metadata": {},
   "source": [
    "L'**else** si può utilizzare dopo ad un **if** ed esegue il relativo blocco di codice se la condizione dell'**if** è falsa"
   ]
  },
  {
   "cell_type": "code",
   "execution_count": null,
   "metadata": {
    "dotnet_interactive": {
     "language": "csharp"
    },
    "vscode": {
     "languageId": "dotnet-interactive.csharp"
    }
   },
   "outputs": [],
   "source": [
    "\n",
    "Console.WriteLine(\"A\");\n",
    "bool condizione = true; //modifica la condizione per vedere cosa succede!\n",
    "if(condizione)\n",
    "{\n",
    "    Console.WriteLine(\"B\");\n",
    "}\n",
    "else \n",
    "{\n",
    "    Console.WriteLine(\"C\");\n",
    "}\n",
    "Console.WriteLine(\"D\");"
   ]
  },
  {
   "cell_type": "markdown",
   "metadata": {},
   "source": [
    "Non è necessario usare le parentesi graffe se il blocco è costituito da una sola istruzione"
   ]
  },
  {
   "cell_type": "code",
   "execution_count": null,
   "metadata": {
    "dotnet_interactive": {
     "language": "csharp"
    },
    "vscode": {
     "languageId": "dotnet-interactive.csharp"
    }
   },
   "outputs": [
    {
     "name": "stdout",
     "output_type": "stream",
     "text": [
      "A\r\n",
      "B\r\n",
      "D\r\n"
     ]
    }
   ],
   "source": [
    "Console.WriteLine(\"A\");\n",
    "bool condizione = true; //modifica la condizione per vedere cosa succede!\n",
    "if(condizione)\n",
    "    Console.WriteLine(\"B\");\n",
    "else \n",
    "    Console.WriteLine(\"C\");\n",
    "Console.WriteLine(\"D\");"
   ]
  },
  {
   "cell_type": "markdown",
   "metadata": {},
   "source": [
    "Alcuni, quando le istruzioni sono corte, le scrivono su una sola riga"
   ]
  },
  {
   "cell_type": "code",
   "execution_count": null,
   "metadata": {
    "dotnet_interactive": {
     "language": "csharp"
    },
    "vscode": {
     "languageId": "dotnet-interactive.csharp"
    }
   },
   "outputs": [
    {
     "name": "stdout",
     "output_type": "stream",
     "text": [
      "A\r\n",
      "B\r\n",
      "D\r\n"
     ]
    }
   ],
   "source": [
    "Console.WriteLine(\"A\");\n",
    "bool condizione = true; //modifica la condizione per vedere cosa succede!\n",
    "if(condizione) Console.WriteLine(\"B\");\n",
    "else Console.WriteLine(\"C\");\n",
    "Console.WriteLine(\"D\");"
   ]
  }
 ],
 "metadata": {
  "kernelspec": {
   "display_name": ".NET (C#)",
   "language": "C#",
   "name": ".net-csharp"
  },
  "language_info": {
   "name": "C#"
  }
 },
 "nbformat": 4,
 "nbformat_minor": 2
}
