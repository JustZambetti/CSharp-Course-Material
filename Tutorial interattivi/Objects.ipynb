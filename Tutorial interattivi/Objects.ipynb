{
 "cells": [
  {
   "cell_type": "markdown",
   "metadata": {},
   "source": [
    "# Oggetti e classi\n",
    "Nella programmazione ad **oggetti**, Semplficando possiamo dire che:\n",
    "1) Ogni cosa è un **oggetto** (chiamato anche **istanza**) o una **classe**.\n",
    "2) Ogni **oggetto** appartiene a una **classe**.\n",
    "3) Gli **oggetti** hanno dei **metodi** e delle **proprietà**.\n",
    "4) I **metodi** e le **proprietà** sono a loro volta **oggetti**.\n",
    "5) La **classe** indica quali **metodi** e quali **proprietà** possiedono gli **oggetti** che appartengono a quella **classe**.\n",
    "6) Le classi stesse hanno dei **metodi** e delle **proprietà**"
   ]
  },
  {
   "cell_type": "markdown",
   "metadata": {},
   "source": [
    "I metodi Sono caratterizzati dalla presenza delle parentesi tonde a seguito del nome.\n",
    "All'interno delle parentesi tonde vengono inseriti i parametri (che sono sempre oggetti) dei metodi."
   ]
  },
  {
   "cell_type": "code",
   "execution_count": null,
   "metadata": {
    "dotnet_interactive": {
     "language": "csharp"
    },
    "vscode": {
     "languageId": "dotnet-interactive.csharp"
    }
   },
   "outputs": [],
   "source": [
    "// La console scrive una linea il cui contenuto è \"Ciao Zombo\"\n",
    "// Console è una classe\n",
    "// WriteLine() è un metodo della classe Console.\n",
    "// \"Ciao Zombo\" è un oggetto che è stato inserito come parametro al metodo WriteLine()\n",
    "Console.WriteLine(\"Ciao Zombo\");"
   ]
  },
  {
   "cell_type": "code",
   "execution_count": null,
   "metadata": {
    "dotnet_interactive": {
     "language": "csharp"
    },
    "vscode": {
     "languageId": "dotnet-interactive.csharp"
    }
   },
   "outputs": [
    {
     "name": "stdout",
     "output_type": "stream",
     "text": [
      "L'ultima riga serve solo ad avere un output\r\n"
     ]
    }
   ],
   "source": [
    "// DateTime è una classe\n",
    "// date è un oggetto di classe DateTime\n",
    "// DateTime.Now è una proprietà della classe DateTime\n",
    "DateTime date = DateTime.Now;\n",
    "\n",
    "//int è una classe\n",
    "//year è un oggetto di classe int\n",
    "//date.Year è una proprietà dell'oggetto date\n",
    "int year = date.Year;\n",
    "\n",
    "//date.AddYears() è un metodo dell'oggetto date\n",
    "date.AddYears(3);\n",
    "\n",
    "//DateTime.IsLeapYear() è un metodo della classe DateTime \n",
    "DateTime.IsLeapYear(year);\n",
    "\n",
    "Console.WriteLine(\"L'ultima riga serve solo ad avere un output\");\n"
   ]
  }
 ],
 "metadata": {
  "kernelspec": {
   "display_name": ".NET (C#)",
   "language": "C#",
   "name": ".net-csharp"
  },
  "language_info": {
   "file_extension": ".cs",
   "mimetype": "text/x-csharp",
   "name": "C#",
   "pygments_lexer": "csharp",
   "version": "9.0"
  },
  "orig_nbformat": 4
 },
 "nbformat": 4,
 "nbformat_minor": 2
}
