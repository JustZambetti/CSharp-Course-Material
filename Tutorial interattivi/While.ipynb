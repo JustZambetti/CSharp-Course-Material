{
 "cells": [
  {
   "cell_type": "markdown",
   "metadata": {},
   "source": [
    "# Il ciclo while e do-while\n",
    "Il ciclo while permette di eseguire un blocco di codice fintanto che la sua condizione è vera.\n",
    "\n",
    "Pertanto è consigliabile che prima o poi la condizione risulti falsa."
   ]
  },
  {
   "cell_type": "code",
   "execution_count": null,
   "metadata": {
    "dotnet_interactive": {
     "language": "csharp"
    },
    "vscode": {
     "languageId": "dotnet-interactive.csharp"
    }
   },
   "outputs": [
    {
     "name": "stdout",
     "output_type": "stream",
     "text": [
      "5\r\n",
      "4\r\n",
      "3\r\n",
      "2\r\n",
      "1\r\n"
     ]
    }
   ],
   "source": [
    "//Questo codice è sconsigliato perché quando si lavora con gli indici è preferibile il ciclo for\n",
    "//Però funziona ugualmente\n",
    "int i = 5; // provate a impostarlo a -10, il blocco di codice non verrà eseguito mai\n",
    "\n",
    "while(i > 0)\n",
    "{\n",
    "    Console.WriteLine(i);\n",
    "    i--;\n",
    "}"
   ]
  },
  {
   "cell_type": "code",
   "execution_count": null,
   "metadata": {
    "dotnet_interactive": {
     "language": "csharp"
    },
    "vscode": {
     "languageId": "dotnet-interactive.csharp"
    }
   },
   "outputs": [
    {
     "name": "stdout",
     "output_type": "stream",
     "text": [
      "2\r\n",
      "10\r\n",
      "20\r\n",
      "5\r\n"
     ]
    }
   ],
   "source": [
    "//Questo è del codice più simile a come si usa il while di solito: quando non c'è un contatore\n",
    "using System.Collections;\n",
    "\n",
    "Queue<int> queue = new(); // Questa è una coda, ma non ci interessa troppo\n",
    "// Una coda è simile a una lista.\n",
    "// Aggiungi un elemento in fondo ala coda con Enqueue()\n",
    "// Togli l'elemento in cima alla coda con Dequeue()\n",
    "queue.Enqueue(2);\n",
    "queue.Enqueue(10);\n",
    "queue.Enqueue(20);\n",
    "queue.Enqueue(5);\n",
    "\n",
    "while(queue.Count > 0) //Il blocco di codice viene eseguito finche la coda non è vuota\n",
    "{\n",
    "    int number = queue.Dequeue(); //Toglie il primo elemento dalla coda\n",
    "    Console.WriteLine(number);\n",
    "}\n",
    "\n"
   ]
  },
  {
   "cell_type": "markdown",
   "metadata": {},
   "source": [
    "Il **do-while** è un ciclo molto simile al while con un'unica differenza: *non lo usa nessuno*\n",
    "\n",
    "Ok. No. Scherzo. La differenza è che la condizione viene controllata alla fine del blocco di codice."
   ]
  },
  {
   "cell_type": "code",
   "execution_count": null,
   "metadata": {
    "dotnet_interactive": {
     "language": "csharp"
    },
    "vscode": {
     "languageId": "dotnet-interactive.csharp"
    }
   },
   "outputs": [
    {
     "name": "stdout",
     "output_type": "stream",
     "text": [
      "-10\r\n"
     ]
    }
   ],
   "source": [
    "//Questo codice è sconsigliato perché quando si lavora con gli indici è preferibile il ciclo for\n",
    "//Però funziona ugualmente\n",
    "int i = 5; // Provate a impostare la i a -10,\n",
    "// un while non avrebbe eseguito il blocco di codice nemmeno una volta \n",
    "// un do-while invece esegue sempre almeno una volta il blocco di codice.\n",
    "\n",
    "do\n",
    "{\n",
    "    Console.WriteLine(i);\n",
    "    i--;\n",
    "} while(i > 0);"
   ]
  },
  {
   "cell_type": "code",
   "execution_count": null,
   "metadata": {
    "dotnet_interactive": {
     "language": "csharp"
    },
    "vscode": {
     "languageId": "dotnet-interactive.csharp"
    }
   },
   "outputs": [],
   "source": [
    "//Questo codice è un esempio fittizio (NON FUNZIONA) di come si potrebbe usare un ciclo do-while.\n",
    "//Non preoccuparti se non riconosci oggetti come \"SolitaireMatch\". Non esistono, ma potrebbero se qualcuno li creasse.\n",
    "//Sono cose che vedremo più avanti. Quello che ti chiedo è di intuire cosa faccia questo programma basandoti sui nomi delle cose.\n",
    "\n",
    "SolitaireMatch match = new(); //Un match di solitario\n",
    "\n",
    "do\n",
    "{\n",
    "    match.MakeMove(Console.ReadLine());\n",
    "    ShowMatch(match); //Stampa la partita sulla Console\n",
    "}while(!match.Won);\n",
    "\n",
    "Console.WriteLine(\"Congratulations you have won!\");\n",
    "\n",
    "/*Questo codice si legge così: \n",
    "    1) Creo una nuova partita di solitario\n",
    "    2) Faccio fare una mossa al giocatore prendendo l'input da tastiera\n",
    "    3) Mostro le carte sulla console\n",
    "    4) Torno al punto 2 finche l'utente non vince\n",
    "    5) VINTO!\n",
    "*/"
   ]
  },
  {
   "cell_type": "markdown",
   "metadata": {
    "dotnet_interactive": {
     "language": "csharp"
    }
   },
   "source": [
    "Come potete notare, potete conoscere solo il While e vivere felici. \n",
    "\n",
    "In molti linguaggi di programmazione il do-while non esiste e non se ne lamenta nesusno :)"
   ]
  }
 ],
 "metadata": {
  "kernelspec": {
   "display_name": ".NET (C#)",
   "language": "C#",
   "name": ".net-csharp"
  },
  "language_info": {
   "file_extension": ".cs",
   "mimetype": "text/x-csharp",
   "name": "C#",
   "pygments_lexer": "csharp",
   "version": "9.0"
  },
  "orig_nbformat": 4
 },
 "nbformat": 4,
 "nbformat_minor": 2
}
