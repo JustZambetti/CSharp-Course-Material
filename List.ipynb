{
 "cells": [
  {
   "cell_type": "markdown",
   "metadata": {},
   "source": [
    "# Liste\n",
    "Le **liste** sono delle strutture dati fondamentali che vi faranno dimenticare l'esistenza degli array.\n",
    "\n",
    "Questo perché sono in grado di cambiare la loro dimensione a piacimento. Vediamone una in azione!"
   ]
  },
  {
   "cell_type": "code",
   "execution_count": null,
   "metadata": {
    "dotnet_interactive": {
     "language": "csharp"
    },
    "vscode": {
     "languageId": "dotnet-interactive.csharp"
    }
   },
   "outputs": [
    {
     "name": "stdout",
     "output_type": "stream",
     "text": [
      "La lista possiede 4 elementi!\r\n",
      "Dopo averne aggiunto uno la lista possiede 5 elementi!\r\n"
     ]
    }
   ],
   "source": [
    "/*\n",
    "    Inizialmente potrebbe sembrare strano l'utilizzo delle parentesi angolari <> per specificare il tipo di dato contenuto nella lista.\n",
    "    La realtà è che sono gli array a fare eccezione a questa regola!\n",
    "    Altre strutture dati come le code (Queue<T>), gli stack (Stack<T>), i dizionari (Dictionary<T>) e tutte le altre utilizzano le \n",
    "    parentesi angolari per indicare il tipo di dato T che conterranno.\n",
    "*/\n",
    "\n",
    "List<int> list = new()\n",
    "{\n",
    "    10,\n",
    "    30,\n",
    "    7,\n",
    "    2\n",
    "};\n",
    "\n",
    "Console.WriteLine($\"La lista possiede {list.Count} elementi!\");\n",
    "list.Add(999);\n",
    "Console.WriteLine($\"Dopo averne aggiunto uno la lista possiede {list.Count} elementi!\");"
   ]
  },
  {
   "cell_type": "code",
   "execution_count": null,
   "metadata": {
    "dotnet_interactive": {
     "language": "csharp"
    },
    "vscode": {
     "languageId": "dotnet-interactive.csharp"
    }
   },
   "outputs": [],
   "source": [
    "List<int> list = new()\n",
    "{\n",
    "    10,\n",
    "    30,\n",
    "    7,\n",
    "    2\n",
    "};\n",
    "\n",
    "\n",
    "list.Remove(2); //Rimuove l'elemento con valore 2.\n",
    "list.RemoveAt(1); //Rimuove l'elemento nella posizione 1 (la seconda posizione dato che si parte da zero)\n",
    "list.Insert(1,2); //Aggiunge un elemento con valore 2 nella posizione 1 della lista)\n",
    "int n = list.Count; //list.Count è una proprietà di sola lettura che indica il numero di elementi della lista."
   ]
  }
 ],
 "metadata": {
  "kernelspec": {
   "display_name": ".NET (C#)",
   "language": "C#",
   "name": ".net-csharp"
  },
  "language_info": {
   "file_extension": ".cs",
   "mimetype": "text/x-csharp",
   "name": "C#",
   "pygments_lexer": "csharp",
   "version": "9.0"
  },
  "orig_nbformat": 4
 },
 "nbformat": 4,
 "nbformat_minor": 2
}
